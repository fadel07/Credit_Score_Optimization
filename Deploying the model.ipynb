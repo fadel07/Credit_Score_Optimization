{
 "cells": [
  {
   "cell_type": "code",
   "execution_count": 17,
   "id": "ca7eeaf7",
   "metadata": {},
   "outputs": [],
   "source": [
    "import pickle"
   ]
  },
  {
   "cell_type": "code",
   "execution_count": 18,
   "id": "bea39a84",
   "metadata": {},
   "outputs": [],
   "source": [
    "def predict_score(model_name):\n",
    "    \n",
    "    #feeding the data\n",
    "    Amount_invested_monthly = float(input())\n",
    "    Total_EMI_per_month = float(input())\n",
    "    Interest_Rate = float(input())\n",
    "    Outstanding_Debt = float(input())\n",
    "    Annual_Income = float(input())\n",
    "    Delay_from_due_date = float(input())\n",
    "    Num_of_Delayed_Payment = int(input())\n",
    "    Num_of_Loan = int(input())\n",
    "    \n",
    "    #loading the model\n",
    "    loaded_model = pickle.load(open(model_name, 'rb'))\n",
    "    input_list = [Amount_invested_monthly, Total_EMI_per_month, Interest_Rate, Outstanding_Debt, Annual_Income,\n",
    "                 Delay_from_due_date, Num_of_Delayed_Payment, Num_of_Loan]\n",
    "    prediction = loaded_model.predict([input_list])\n",
    "    \n",
    "    return prediction[0]\n"
   ]
  },
  {
   "cell_type": "code",
   "execution_count": null,
   "id": "ce226726",
   "metadata": {},
   "outputs": [],
   "source": []
  }
 ],
 "metadata": {
  "kernelspec": {
   "display_name": "Python 3 (ipykernel)",
   "language": "python",
   "name": "python3"
  },
  "language_info": {
   "codemirror_mode": {
    "name": "ipython",
    "version": 3
   },
   "file_extension": ".py",
   "mimetype": "text/x-python",
   "name": "python",
   "nbconvert_exporter": "python",
   "pygments_lexer": "ipython3",
   "version": "3.9.13"
  }
 },
 "nbformat": 4,
 "nbformat_minor": 5
}
