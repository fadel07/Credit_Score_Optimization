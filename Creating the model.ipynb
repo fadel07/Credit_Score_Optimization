{
 "cells": [
  {
   "cell_type": "code",
   "execution_count": 1,
   "metadata": {},
   "outputs": [],
   "source": [
    "import pandas as pd\n",
    "from sklearn.model_selection import train_test_split\n",
    "from sklearn.neighbors import KNeighborsClassifier\n",
    "from sklearn.model_selection import cross_validate\n",
    "from sklearn.preprocessing import StandardScaler\n",
    "from sklearn.model_selection import GridSearchCV, RandomizedSearchCV\n",
    "\n",
    "from sklearn.ensemble import RandomForestClassifier\n",
    "from sklearn.metrics import confusion_matrix\n",
    "from sklearn.metrics import accuracy_score\n",
    "from sklearn.metrics import precision_score\n",
    "from sklearn.metrics import recall_score\n",
    "from sklearn.metrics import f1_score\n",
    "from sklearn.metrics import classification_report\n",
    "import pickle"
   ]
  },
  {
   "cell_type": "code",
   "execution_count": 2,
   "metadata": {},
   "outputs": [],
   "source": [
    "#Reading the DataFrame\n",
    "df = pd.read_csv('credit_score.csv')"
   ]
  },
  {
   "cell_type": "code",
   "execution_count": 3,
   "metadata": {},
   "outputs": [],
   "source": [
    "#Our features that will be applied in the model\n",
    "hypothesis_variables = ['Amount_invested_monthly','Total_EMI_per_month', 'Interest_Rate','Outstanding_Debt', 'Annual_Income', 'Delay_from_due_date', 'Num_of_Delayed_Payment', 'Num_of_Loan']\n",
    "\n",
    "x = df[hypothesis_variables] #training set\n",
    "y = df['Credit_Score'] #labels set\n",
    "\n",
    "#Parameters of KNN to choose from using grid search\n",
    "param_grid_SVR = {\n",
    "    'n_neighbors': [2, 3, 4, 5, 7, 8, 10, 15],                                  \n",
    "    'algorithm': ['ball_tree', 'kd_tree', 'brute', 'auto'],          \n",
    "    'metric': ['minkowski', 'euclidean', 'manhattan', 'chebyshev']\n",
    "}\n",
    "\n",
    "#Splitting the data into train and test set\n",
    "x_train, x_test, y_train, y_test = train_test_split(x, y, test_size=0.3, random_state=1)\n"
   ]
  },
  {
   "cell_type": "code",
   "execution_count": 8,
   "metadata": {},
   "outputs": [
    {
     "data": {
      "text/plain": [
       "0.7916666666666666"
      ]
     },
     "execution_count": 8,
     "metadata": {},
     "output_type": "execute_result"
    }
   ],
   "source": [
    "#Initialising KNN classifier with 4 neighbors and weights param as distance\n",
    "model = KNeighborsClassifier(n_neighbors=4, weights='distance')\n",
    "model.fit(x_train,y_train)\n",
    "\n",
    "#calculating the accuracy for it\n",
    "model.score(x_test,y_test)"
   ]
  },
  {
   "cell_type": "code",
   "execution_count": 63,
   "metadata": {},
   "outputs": [
    {
     "name": "stdout",
     "output_type": "stream",
     "text": [
      "Fitting 10 folds for each of 128 candidates, totalling 1280 fits\n",
      "KNeighborsClassifier(algorithm='ball_tree', metric='manhattan', n_neighbors=2)\n"
     ]
    }
   ],
   "source": [
    "#Trying to optimize accuracy by grid search, but the first result has higher accuracy so we stick with it\n",
    "kNNModel_grid = GridSearchCV(estimator=KNeighborsClassifier(), param_grid=param_grid_knn, verbose=1, cv=10, n_jobs=-1)\n",
    "kNNModel_grid.fit(x_train, y_train)\n",
    "print(kNNModel_grid.best_estimator_)\n",
    "#kNNModel_grid.score(x_test,y_test)\n"
   ]
  },
  {
   "cell_type": "code",
   "execution_count": 6,
   "metadata": {},
   "outputs": [],
   "source": [
    "#saving the model to our current directory\n",
    "pickle.dump(model, open('final_model.sav', 'wb'))\n",
    "y_pred = model.predict(x_test)"
   ]
  },
  {
   "cell_type": "code",
   "execution_count": 7,
   "metadata": {},
   "outputs": [
    {
     "name": "stdout",
     "output_type": "stream",
     "text": [
      "[[ 4259     4  1064]\n",
      " [   13  7346  1324]\n",
      " [ 1607  2238 12145]]\n",
      "--------------------\n",
      "              precision    recall  f1-score   support\n",
      "\n",
      "        Good       0.72      0.80      0.76      5327\n",
      "        Poor       0.77      0.85      0.80      8683\n",
      "    Standard       0.84      0.76      0.80     15990\n",
      "\n",
      "    accuracy                           0.79     30000\n",
      "   macro avg       0.78      0.80      0.79     30000\n",
      "weighted avg       0.80      0.79      0.79     30000\n",
      "\n"
     ]
    }
   ],
   "source": [
    "#calculating some measures and statistics for our model\n",
    "print(confusion_matrix(y_test, y_pred))\n",
    "print('--------------------')\n",
    "print(classification_report(y_test, y_pred))"
   ]
  },
  {
   "cell_type": "code",
   "execution_count": null,
   "metadata": {},
   "outputs": [],
   "source": []
  }
 ],
 "metadata": {
  "kernelspec": {
   "display_name": "Python 3",
   "language": "python",
   "name": "python3"
  },
  "language_info": {
   "codemirror_mode": {
    "name": "ipython",
    "version": 3
   },
   "file_extension": ".py",
   "mimetype": "text/x-python",
   "name": "python",
   "nbconvert_exporter": "python",
   "pygments_lexer": "ipython3",
   "version": "3.8.5"
  }
 },
 "nbformat": 4,
 "nbformat_minor": 5
}
